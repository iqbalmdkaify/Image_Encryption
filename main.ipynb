{
 "cells": [
  {
   "cell_type": "code",
   "execution_count": 1,
   "metadata": {},
   "outputs": [],
   "source": [
    "# Imports\n",
    "from PIL import Image\n",
    "import random\n",
    "import matplotlib.pyplot as plt"
   ]
  },
  {
   "cell_type": "markdown",
   "metadata": {},
   "source": [
    "### Reading and Extracting Pixel values of the Original Image"
   ]
  },
  {
   "cell_type": "code",
   "execution_count": 4,
   "metadata": {},
   "outputs": [
    {
     "name": "stdout",
     "output_type": "stream",
     "text": [
      "Min: 0, Max: 120\n",
      "Image resolution: WxH (256, 256)\n",
      "\n"
     ]
    }
   ],
   "source": [
    "with Image.open(\"./images/Lena-Image.png\", mode='r') as im:\n",
    "    px_data = list(im.getdata())\n",
    "\n",
    "    print(f'Min: {min(px_data)}, Max: {max(px_data)}')\n",
    "    print(f'Image resolution: WxH {im.size}\\n')\n",
    "\n",
    "im.close()"
   ]
  },
  {
   "cell_type": "markdown",
   "metadata": {},
   "source": [
    "### Defining the diffusion function\n",
    "\n",
    "Diffusion is used to encrypt the pixel data sequentially in a chained way using the chaotic Logistic Map equation-\n",
    "$$\n",
    "X_{n+1} = 4\\lambda x_{n} (1-x_{n})\n",
    "$$\n",
    "\n",
    "$$\n",
    "where \\space 0.8925 \\le \\lambda \\le 1 \\space and \\space 0 \\le x_{n} \\le 1\n",
    "$$\n",
    "\n",
    "#### How the diffusion works?\n",
    "\n",
    "Utilizing the chaotic logistic map equation, _x(n)_ and *l* values are determined under the relevant, previously specified constraints.\n",
    "\n",
    "1. To find the *x(n+1)* or encrypted value for a given pixel, the `set_vals` method is used.\n",
    "2. The function <code>set_vals</code> takes two values as parameters(_x_n, l, val_) where *l* is lambda and *val* is the pixel value from the _Original image_ data which is used for number of iterations and **returns** <code>targeted_value</code> for the corresponding pixel \n",
    "3. The next pixel data is encrypted using this encrypted value or `targeted_value` as x(n), and so on until all of the pixels are encrypted in a sequential manner.\n",
    "4. The starting values of `x_c` and `l` are stored outside the loop, and the pixel data are iterated consecutively.\n",
    "5. To track the number of times the final value is repeated over iterations, the `targeted_value` acquired for each original pixel data is recorded individually in a flat array (`val_rep_check_data`). This information can be utilized for decrypting later on. \n",
    "6. The `targeted_value` is first multiplied by `10^17` to convert it from float to integer form, and then the <code>get_encrypted_pixel_val</code> function evaluates mod of `targeted_value` (integer form) to acquire the values between 0 and 255.\n",
    "7. The encrypted image is formed by using the resultant acquired value as the encrypted pixel value."
   ]
  },
  {
   "cell_type": "code",
   "execution_count": null,
   "metadata": {},
   "outputs": [],
   "source": []
  }
 ],
 "metadata": {
  "kernelspec": {
   "display_name": "Image_Encryption",
   "language": "python",
   "name": "python3"
  },
  "language_info": {
   "codemirror_mode": {
    "name": "ipython",
    "version": 3
   },
   "file_extension": ".py",
   "mimetype": "text/x-python",
   "name": "python",
   "nbconvert_exporter": "python",
   "pygments_lexer": "ipython3",
   "version": "3.11.5"
  }
 },
 "nbformat": 4,
 "nbformat_minor": 2
}
